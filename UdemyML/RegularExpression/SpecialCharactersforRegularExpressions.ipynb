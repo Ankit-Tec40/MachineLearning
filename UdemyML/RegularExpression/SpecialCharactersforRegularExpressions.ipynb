{
 "metadata": {
  "language_info": {
   "codemirror_mode": {
    "name": "ipython",
    "version": 3
   },
   "file_extension": ".py",
   "mimetype": "text/x-python",
   "name": "python",
   "nbconvert_exporter": "python",
   "pygments_lexer": "ipython3",
   "version": "3.9.1"
  },
  "orig_nbformat": 2,
  "kernelspec": {
   "name": "python391jvsc74a57bd0b5843a13e7131a14c3c0e364f0390d6592a995e3082c3f83420ac4385eeb2370",
   "display_name": "Python 3.9.1 64-bit"
  },
  "metadata": {
   "interpreter": {
    "hash": "b5843a13e7131a14c3c0e364f0390d6592a995e3082c3f83420ac4385eeb2370"
   }
  }
 },
 "nbformat": 4,
 "nbformat_minor": 2,
 "cells": [
  {
   "cell_type": "code",
   "execution_count": 1,
   "metadata": {},
   "outputs": [],
   "source": [
    "import re"
   ]
  },
  {
   "cell_type": "code",
   "execution_count": 2,
   "metadata": {},
   "outputs": [
    {
     "output_type": "execute_result",
     "data": {
      "text/plain": [
       "[]"
      ]
     },
     "metadata": {},
     "execution_count": 2
    }
   ],
   "source": [
    "#\\A=return amatch if the specified character are at the begning of the string\n",
    "\n",
    "s=\" i love india\"\n",
    "x=re.findall('\\Ai',s)\n",
    "x"
   ]
  },
  {
   "cell_type": "code",
   "execution_count": 8,
   "metadata": {},
   "outputs": [
    {
     "output_type": "stream",
     "name": "stdout",
     "text": [
      "['i', 'i']\n"
     ]
    }
   ],
   "source": [
    "#\\b = return a match where the specified characters are at the begning or at end of a word\n",
    "\n",
    "s='i love india'\n",
    "x=re.findall(r'\\bi',s)\n",
    "print(x)"
   ]
  },
  {
   "cell_type": "code",
   "execution_count": 10,
   "metadata": {},
   "outputs": [
    {
     "output_type": "stream",
     "name": "stdout",
     "text": [
      "['o']\n"
     ]
    }
   ],
   "source": [
    "#\\B=return a match where the specified characters are not at the begning or at end of a word\n",
    "\n",
    "s='i love india'\n",
    "x=re.findall(r'\\Bo',s)\n",
    "print(x)"
   ]
  },
  {
   "cell_type": "code",
   "execution_count": 13,
   "metadata": {},
   "outputs": [
    {
     "output_type": "stream",
     "name": "stdout",
     "text": [
      "['i', ' ', 'l', 'o', 'v', 'e', ' ', 'i', 'n', 'd', 'i', 'a']\n"
     ]
    }
   ],
   "source": [
    "#\\D=return a match where the steing does not contain digit\n",
    "s='i love678 india'\n",
    "x=re.findall('\\D',s)\n",
    "print(x)"
   ]
  },
  {
   "cell_type": "code",
   "execution_count": 14,
   "metadata": {},
   "outputs": [
    {
     "output_type": "stream",
     "name": "stdout",
     "text": [
      "['6', '7', '8']\n"
     ]
    }
   ],
   "source": [
    "#\\d=return a match where the steing does contain digit\n",
    "\n",
    "s='i love678 india'\n",
    "x=re.findall('\\d',s)\n",
    "print(x)"
   ]
  },
  {
   "cell_type": "code",
   "execution_count": 15,
   "metadata": {},
   "outputs": [
    {
     "output_type": "stream",
     "name": "stdout",
     "text": [
      "[' ', ' ']\n"
     ]
    }
   ],
   "source": [
    "#\\s=return a match where the steing contains a whilte space character\n",
    "\n",
    "s='i love678 india'\n",
    "x=re.findall('\\s',s)\n",
    "print(x)"
   ]
  },
  {
   "cell_type": "code",
   "execution_count": null,
   "metadata": {},
   "outputs": [],
   "source": []
  }
 ]
}